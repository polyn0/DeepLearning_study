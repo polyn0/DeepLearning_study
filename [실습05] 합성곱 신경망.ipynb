{
 "cells": [
  {
   "cell_type": "markdown",
   "id": "0d6d7b43",
   "metadata": {},
   "source": [
    "https://github.com/polyn0/DeepLearning_study"
   ]
  },
  {
   "cell_type": "markdown",
   "id": "4f51c04a",
   "metadata": {},
   "source": [
    "## 0. 라이브러리 임포트"
   ]
  },
  {
   "cell_type": "code",
   "execution_count": 1,
   "id": "5a2b40a3",
   "metadata": {},
   "outputs": [],
   "source": [
    "import torch\n",
    "import torch.nn as nn\n",
    "import torchvision.datasets as dset\n",
    "import torchvision.transforms as transforms\n",
    "from torch.utils.data import DataLoader\n",
    "from torch.autograd import Variable\n",
    "\n",
    "import matplotlib.pyplot as plt\n",
    "%matplotlib inline"
   ]
  },
  {
   "cell_type": "markdown",
   "id": "8eee4302",
   "metadata": {},
   "source": [
    "## 1. MNIST train, test dataset 가져오기"
   ]
  },
  {
   "cell_type": "code",
   "execution_count": 2,
   "id": "1e5c40b1",
   "metadata": {},
   "outputs": [],
   "source": [
    "# \"\": 현재 폴더에 MNIST 있음\n",
    "mnist_train = dset.MNIST(\"\", train=True, transform=transforms.ToTensor(), #train용(train=True)\n",
    "                       target_transform=None, download=True)\n",
    "mnist_test = dset.MNIST(\"\", train=False, transform=transforms.ToTensor(), #test용(train=False)\n",
    "                       target_transform=None, download=True)"
   ]
  },
  {
   "cell_type": "markdown",
   "id": "824cdcac",
   "metadata": {},
   "source": [
    "## 2. 대략적인 데이터 형태"
   ]
  },
  {
   "cell_type": "code",
   "execution_count": 3,
   "id": "ee8bfa94",
   "metadata": {},
   "outputs": [
    {
     "name": "stdout",
     "output_type": "stream",
     "text": [
      "mnist_train 길이: 60000\n",
      "mnist_test 길이: 10000\n",
      "\n",
      "image data 형태: torch.Size([1, 28, 28])\n",
      "label:  5\n"
     ]
    },
    {
     "data": {
      "image/png": "[encoded data removed]",
      "text/plain": [
       "<Figure size 432x288 with 1 Axes>"
      ]
     },
     "metadata": {
      "needs_background": "light"
     },
     "output_type": "display_data"
    }
   ],
   "source": [
    "print \"mnist_train 길이:\", len(mnist_train)\n",
    "print \"mnist_test 길이:\", len(mnist_test)\n",
    "\n",
    "# 데이터 하나 형태\n",
    "image, label = mnist_train.__getitem__(0) # 0번째 데이터\n",
    "print \"\\nimage data 형태:\", image.size()\n",
    "print \"label: \", label\n",
    "\n",
    "# 그리기\n",
    "img = image.numpy() # image 타입을 numpy로 변환(1,28,28)\n",
    "plt.title(\"label: %d\" %label)\n",
    "plt.imshow(img[0], cmap='gray')\n",
    "plt.show()"
   ]
  },
  {
   "cell_type": "markdown",
   "id": "51ec8dde",
   "metadata": {},
   "source": [
    "## MNIST data 띄워보기"
   ]
  },
  {
   "cell_type": "code",
   "execution_count": 4,
   "id": "4c5d44f2",
   "metadata": {},
   "outputs": [
    {
     "name": "stdout",
     "output_type": "stream",
     "text": [
      "5\n",
      "torch.Size([1, 28, 28])\n",
      "5\n"
     ]
    },
    {
     "data": {
      "image/png": "[encoded data removed]",
      "text/plain": [
       "<Figure size 432x288 with 1 Axes>"
      ]
     },
     "metadata": {
      "needs_background": "light"
     },
     "output_type": "display_data"
    },
    {
     "name": "stdout",
     "output_type": "stream",
     "text": [
      "0\n"
     ]
    },
    {
     "data": {
      "image/png": "[encoded data removed]",
      "text/plain": [
       "<Figure size 432x288 with 1 Axes>"
      ]
     },
     "metadata": {
      "needs_background": "light"
     },
     "output_type": "display_data"
    },
    {
     "name": "stdout",
     "output_type": "stream",
     "text": [
      "4\n"
     ]
    },
    {
     "data": {
      "image/png": "[encoded data removed]",
      "text/plain": [
       "<Figure size 432x288 with 1 Axes>"
      ]
     },
     "metadata": {
      "needs_background": "light"
     },
     "output_type": "display_data"
    }
   ],
   "source": [
    "print(mnist_train[0][1]) # label\n",
    "print(mnist_train[0][0].size()) # image\n",
    "\n",
    "for i in range(3):\n",
    "    img=mnist_train[i][0].numpy()\n",
    "    print(mnist_train[i][1])\n",
    "    plt.imshow(img[0], cmap='gray')\n",
    "    plt.show()\n"
   ]
  },
  {
   "cell_type": "markdown",
   "id": "f43b4921",
   "metadata": {},
   "source": [
    "## convolution 하나 씌워보기"
   ]
  },
  {
   "cell_type": "code",
   "execution_count": 5,
   "id": "be8a987c",
   "metadata": {},
   "outputs": [
    {
     "name": "stdout",
     "output_type": "stream",
     "text": [
      "torch.Size([1, 1, 28, 28])\n",
      "5\n",
      "torch.Size([1, 3, 28, 28])\n"
     ]
    },
    {
     "data": {
      "image/png": "[encoded data removed]",
      "text/plain": [
       "<Figure size 432x288 with 1 Axes>"
      ]
     },
     "metadata": {
      "needs_background": "light"
     },
     "output_type": "display_data"
    },
    {
     "data": {
      "image/png": "[encoded data removed]",
      "text/plain": [
       "<Figure size 432x288 with 1 Axes>"
      ]
     },
     "metadata": {
      "needs_background": "light"
     },
     "output_type": "display_data"
    },
    {
     "data": {
      "image/png": "[encoded data removed]",
      "text/plain": [
       "<Figure size 432x288 with 1 Axes>"
      ]
     },
     "metadata": {
      "needs_background": "light"
     },
     "output_type": "display_data"
    }
   ],
   "source": [
    "# mnist의 첫 번째 이미지, 라벨 가져오기\n",
    "image, label = mnist_train[0]\n",
    "# view: tensor 의 사이즈 조절. -1: 해당 차원 확장시켜라\n",
    "# [1, 28, 28] -> [1, 1, 28, 28]\n",
    "image = image.view(-1, image.size()[0], image.size()[1], image.size()[2])\n",
    "print(image.size())\n",
    "\n",
    "print label\n",
    "\n",
    "# convolutional filter 정의\n",
    "conv_layer=nn.Conv2d(in_channels=1, out_channels=3, kernel_size=3, padding=1)\n",
    "# image에 filter 적용\n",
    "output=conv_layer(Variable(image))\n",
    "print(output.size())\n",
    "\n",
    "for i in range(3):\n",
    "    plt.imshow(output[0,i,:,:].data.numpy(), cmap='gray')\n",
    "    plt.show()"
   ]
  },
  {
   "cell_type": "code",
   "execution_count": 6,
   "id": "7bb89d42",
   "metadata": {},
   "outputs": [],
   "source": [
    "## CNN 만들기\n",
    "\n",
    "### train, test data 가져오기\n",
    "import numpy as np\n",
    "import torch.optim as optim\n",
    "\n",
    "# hyper parameters\n",
    "batch_size = 16\n",
    "learning_rate = 0.0002\n",
    "num_epoch = 10"
   ]
  },
  {
   "cell_type": "code",
   "execution_count": 7,
   "id": "2666f7ac",
   "metadata": {},
   "outputs": [],
   "source": [
    "# mnist_train 을 load\n",
    "train_loader = torch.utils.data.DataLoader(list(mnist_train)[:batch_size*100], \n",
    "                                          batch_size=batch_size, # batch_size만큼 묶어서\n",
    "                                          shuffle=True, num_workers=2,# shuffle해서 train할 거야\n",
    "                                          drop_last=True) # batch_size만큼 묶고 나머지 버림\n",
    "\n",
    "# mnist_test 을 load\n",
    "test_loader = torch.utils.data.DataLoader((mnist_test), \n",
    "                                          batch_size=batch_size, \n",
    "                                          shuffle=False, num_workers=2,# test 할 땐 shuffle 안해 \n",
    "                                          drop_last=True) "
   ]
  },
  {
   "cell_type": "markdown",
   "id": "87fa57f3",
   "metadata": {},
   "source": [
    "## CNN 클래스 만들기(모델만들기)"
   ]
  },
  {
   "cell_type": "code",
   "execution_count": 8,
   "id": "149bd3d1",
   "metadata": {},
   "outputs": [],
   "source": [
    "class CNN(nn.Module):\n",
    "    def __init__(self):\n",
    "        super(CNN, self).__init__() # 28*28\n",
    "        self.layer=nn.Sequential(\n",
    "            nn.Conv2d(1,16,5,padding=2),\n",
    "            nn.ReLU(),\n",
    "        \n",
    "            nn.Conv2d(16,32,5,padding=2), # 28*28\n",
    "            nn.ReLU(),\n",
    "            nn.MaxPool2d(2,2), # 28*28 -> 14*14\n",
    "\n",
    "            nn.Conv2d(32,64,5,padding=2),# 14*14\n",
    "            nn.ReLU(),\n",
    "            nn.MaxPool2d(2,2), # 14*14 -> 7*7\n",
    "        )\n",
    "        self.fc_layer=nn.Sequential(\n",
    "            nn.Linear(64*7*7, 100),\n",
    "            nn.ReLU(),\n",
    "            nn.Linear(100,10)\n",
    "        )\n",
    "    \n",
    "    def forward(self, x):\n",
    "        out=self.layer(x)\n",
    "        out=out.view(batch_size, -1)\n",
    "        out=self.fc_layer(out)\n",
    "        return out\n",
    "model = CNN() "
   ]
  },
  {
   "cell_type": "code",
   "execution_count": 9,
   "id": "bbe46964",
   "metadata": {},
   "outputs": [
    {
     "name": "stdout",
     "output_type": "stream",
     "text": [
      "torch.Size([16, 1, 5, 5])\n",
      "torch.Size([16])\n",
      "torch.Size([32, 16, 5, 5])\n",
      "torch.Size([32])\n",
      "torch.Size([64, 32, 5, 5])\n",
      "torch.Size([64])\n",
      "torch.Size([100, 3136])\n",
      "torch.Size([100])\n",
      "torch.Size([10, 100])\n",
      "torch.Size([10])\n"
     ]
    }
   ],
   "source": [
    "# 파라미터 체크\n",
    "for parameter in model.parameters():\n",
    "    print(parameter.shape)"
   ]
  },
  {
   "cell_type": "markdown",
   "id": "d0cc0cb9",
   "metadata": {},
   "source": [
    "## optimization"
   ]
  },
  {
   "cell_type": "code",
   "execution_count": 11,
   "id": "4eaa6604",
   "metadata": {},
   "outputs": [
    {
     "name": "stdout",
     "output_type": "stream",
     "text": [
      "(tensor(2.3146, grad_fn=<NllLossBackward>), 0, 0)\n",
      "(tensor(2.0940, grad_fn=<NllLossBackward>), 50, 0)\n",
      "(tensor(0.5539, grad_fn=<NllLossBackward>), 0, 1)\n",
      "(tensor(0.2366, grad_fn=<NllLossBackward>), 50, 1)\n",
      "(tensor(0.3915, grad_fn=<NllLossBackward>), 0, 2)\n",
      "(tensor(0.4846, grad_fn=<NllLossBackward>), 50, 2)\n",
      "(tensor(0.2684, grad_fn=<NllLossBackward>), 0, 3)\n",
      "(tensor(0.0313, grad_fn=<NllLossBackward>), 50, 3)\n",
      "(tensor(0.0545, grad_fn=<NllLossBackward>), 0, 4)\n",
      "(tensor(0.2838, grad_fn=<NllLossBackward>), 50, 4)\n",
      "(tensor(0.0678, grad_fn=<NllLossBackward>), 0, 5)\n",
      "(tensor(0.1063, grad_fn=<NllLossBackward>), 50, 5)\n",
      "(tensor(0.0898, grad_fn=<NllLossBackward>), 0, 6)\n",
      "(tensor(0.1808, grad_fn=<NllLossBackward>), 50, 6)\n",
      "(tensor(0.0883, grad_fn=<NllLossBackward>), 0, 7)\n",
      "(tensor(0.2542, grad_fn=<NllLossBackward>), 50, 7)\n",
      "(tensor(0.0237, grad_fn=<NllLossBackward>), 0, 8)\n",
      "(tensor(0.0611, grad_fn=<NllLossBackward>), 50, 8)\n",
      "(tensor(0.0110, grad_fn=<NllLossBackward>), 0, 9)\n",
      "(tensor(0.0312, grad_fn=<NllLossBackward>), 50, 9)\n"
     ]
    }
   ],
   "source": [
    "# loss function, optimizer 선언\n",
    "loss_func = nn.CrossEntropyLoss()\n",
    "optimizer = torch.optim.Adam(model.parameters(), lr = learning_rate)\n",
    "\n",
    "for i in range(num_epoch):\n",
    "    for j, [image, label] in enumerate(train_loader):\n",
    "        x = Variable(image)\n",
    "        y_ = Variable(label)\n",
    "        \n",
    "        optimizer.zero_grad()\n",
    "        output=model.forward(x)\n",
    "        loss = loss_func(output, y_)\n",
    "        loss.backward()\n",
    "        optimizer.step()\n",
    "        \n",
    "        if j%50==0:\n",
    "            print(loss, j, i)"
   ]
  },
  {
   "cell_type": "code",
   "execution_count": 12,
   "id": "0ba771fa",
   "metadata": {},
   "outputs": [
    {
     "name": "stderr",
     "output_type": "stream",
     "text": [
      "/home/ec2-user/anaconda3/envs/pytorch_p27/lib/python2.7/site-packages/torch/serialization.py:360: UserWarning: Couldn't retrieve source code for container of type CNN. It won't be checked for correctness upon loading.\n",
      "  \"type \" + obj.__name__ + \". It won't be checked \"\n"
     ]
    }
   ],
   "source": [
    "# 모델 저장시키기\n",
    "torch.save(model, 'nets/mycnn_model_%d.pkl'%(num_epoch))"
   ]
  },
  {
   "cell_type": "code",
   "execution_count": 13,
   "id": "bc940c10",
   "metadata": {},
   "outputs": [
    {
     "name": "stdout",
     "output_type": "stream",
     "text": [
      "model restored\n"
     ]
    }
   ],
   "source": [
    "try:\n",
    "    # 미리 학습시킨 네트워크의 파라미터 집합\n",
    "    model=torch.load('nets/mycnn_model_10.pkl')\n",
    "    print(\"model restored\")\n",
    "except:\n",
    "    print(\"model not restored\")"
   ]
  },
  {
   "cell_type": "code",
   "execution_count": 16,
   "id": "0201e7ea",
   "metadata": {},
   "outputs": [],
   "source": [
    "# 테스트 함수\n",
    "def ComputeAccr(dloader, imodel):\n",
    "    correct = 0\n",
    "    total = 0\n",
    "    \n",
    "    for j, [imgs, labels] in enumerate(dloader): # batch_size 만큼\n",
    "        img = Variable(imgs) # x\n",
    "        label = Variable(labels) # y\n",
    "        \n",
    "        output = imodel.forward(img) # forward propagation\n",
    "        _, output_index = torch.max(output, 1) # 최대인거 예상값으로\n",
    "        \n",
    "        total += label.size(0)\n",
    "        correct += (output_index ==label).sum().float() # 예상값 == 실제값\n",
    "    print(\"Accuracy of Test Data: {}\".format(100*correct/total))"
   ]
  },
  {
   "cell_type": "code",
   "execution_count": 17,
   "id": "4e68c71c",
   "metadata": {},
   "outputs": [
    {
     "name": "stdout",
     "output_type": "stream",
     "text": [
      "Accuracy of Test Data: 94.2600021362\n"
     ]
    }
   ],
   "source": [
    "ComputeAccr(test_loader, model)"
   ]
  },
  {
   "cell_type": "code",
   "execution_count": null,
   "id": "9253d248",
   "metadata": {},
   "outputs": [],
   "source": []
  }
 ],
 "metadata": {
  "kernelspec": {
   "display_name": "conda_pytorch_p27",
   "language": "python",
   "name": "conda_pytorch_p27"
  },
  "language_info": {
   "codemirror_mode": {
    "name": "ipython",
    "version": 2
   },
   "file_extension": ".py",
   "mimetype": "text/x-python",
   "name": "python",
   "nbconvert_exporter": "python",
   "pygments_lexer": "ipython2",
   "version": "2.7.16"
  }
 },
 "nbformat": 4,
 "nbformat_minor": 5
}
